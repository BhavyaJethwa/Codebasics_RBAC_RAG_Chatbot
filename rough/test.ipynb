{
 "cells": [
  {
   "cell_type": "code",
   "execution_count": 1,
   "id": "683a8042",
   "metadata": {},
   "outputs": [
    {
     "data": {
      "text/plain": [
       "True"
      ]
     },
     "execution_count": 1,
     "metadata": {},
     "output_type": "execute_result"
    }
   ],
   "source": [
    "import os\n",
    "from langchain.document_loaders import TextLoader, CSVLoader, PyPDFLoader, UnstructuredWordDocumentLoader\n",
    "from datetime import datetime\n",
    "from langchain.schema import Document\n",
    "from langchain.text_splitter import MarkdownHeaderTextSplitter, CharacterTextSplitter, RecursiveCharacterTextSplitter\n",
    "from langchain_chroma import Chroma\n",
    "from langchain_openai import OpenAIEmbeddings\n",
    "from dotenv import load_dotenv\n",
    "load_dotenv()\n",
    "\n"
   ]
  },
  {
   "cell_type": "code",
   "execution_count": 2,
   "id": "cf2a76da",
   "metadata": {},
   "outputs": [
    {
     "name": "stdout",
     "output_type": "stream",
     "text": [
      "===============================================================================================================\n",
      "Loading document for finance ...... \n",
      "folders:  ['finance']\n",
      "path:  ./resources/data\\finance\n",
      "file_path: ./resources/data\\finance\\financial_summary.md\n",
      "financial_summary.md MD Documents loaded ./resources/data\\finance\\financial_summary.md\n",
      "Number of Documents loaded:  73\n",
      "------------------------------------------------------------------------------------------------------------\n",
      "file_path: ./resources/data\\finance\\quarterly_financial_report.md\n",
      "quarterly_financial_report.md MD Documents loaded ./resources/data\\finance\\quarterly_financial_report.md\n",
      "Number of Documents loaded:  116\n",
      "------------------------------------------------------------------------------------------------------------\n",
      "Total docs loaded :  189\n",
      "Loading document for finance complete\n",
      "===============================================================================================================\n",
      "Loading document for human_resource ...... \n",
      "folders:  ['hr']\n",
      "path:  ./resources/data\\hr\n",
      "file_path: ./resources/data\\hr\\hr_data.csv\n",
      "hr_data.csv CSV Documents loaded : ./resources/data\\hr\\hr_data.csv\n",
      "Number of Documents loaded:  100\n",
      "------------------------------------------------------------------------------------------------------------\n",
      "Total docs loaded :  100\n",
      "Loading document for human_resource complete\n",
      "===============================================================================================================\n",
      "Loading document for marketing ...... \n",
      "folders:  ['marketing']\n",
      "path:  ./resources/data\\marketing\n",
      "file_path: ./resources/data\\marketing\\marketing_report_2024.md\n",
      "marketing_report_2024.md MD Documents loaded ./resources/data\\marketing\\marketing_report_2024.md\n",
      "Number of Documents loaded:  72\n",
      "------------------------------------------------------------------------------------------------------------\n",
      "file_path: ./resources/data\\marketing\\marketing_report_q1_2024.md\n",
      "marketing_report_q1_2024.md MD Documents loaded ./resources/data\\marketing\\marketing_report_q1_2024.md\n",
      "Number of Documents loaded:  62\n",
      "------------------------------------------------------------------------------------------------------------\n",
      "file_path: ./resources/data\\marketing\\marketing_report_q2_2024.md\n",
      "marketing_report_q2_2024.md MD Documents loaded ./resources/data\\marketing\\marketing_report_q2_2024.md\n",
      "Number of Documents loaded:  68\n",
      "------------------------------------------------------------------------------------------------------------\n",
      "file_path: ./resources/data\\marketing\\marketing_report_q3_2024.md\n",
      "marketing_report_q3_2024.md MD Documents loaded ./resources/data\\marketing\\marketing_report_q3_2024.md\n",
      "Number of Documents loaded:  62\n",
      "------------------------------------------------------------------------------------------------------------\n",
      "file_path: ./resources/data\\marketing\\market_report_q4_2024.md\n",
      "market_report_q4_2024.md MD Documents loaded ./resources/data\\marketing\\market_report_q4_2024.md\n",
      "Number of Documents loaded:  66\n",
      "------------------------------------------------------------------------------------------------------------\n",
      "Total docs loaded :  330\n",
      "Loading document for marketing complete\n",
      "===============================================================================================================\n",
      "Loading document for engineering ...... \n",
      "folders:  ['engineering']\n",
      "path:  ./resources/data\\engineering\n",
      "file_path: ./resources/data\\engineering\\engineering_master_doc.md\n",
      "engineering_master_doc.md MD Documents loaded ./resources/data\\engineering\\engineering_master_doc.md\n",
      "Number of Documents loaded:  283\n",
      "------------------------------------------------------------------------------------------------------------\n",
      "Total docs loaded :  283\n",
      "Loading document for engineering complete\n",
      "===============================================================================================================\n",
      "Loading document for employee ...... \n",
      "folders:  ['general']\n",
      "path:  ./resources/data\\general\n",
      "file_path: ./resources/data\\general\\employee_handbook.md\n",
      "employee_handbook.md MD Documents loaded ./resources/data\\general\\employee_handbook.md\n",
      "Number of Documents loaded:  148\n",
      "------------------------------------------------------------------------------------------------------------\n",
      "Total docs loaded :  148\n",
      "Loading document for employee complete\n"
     ]
    }
   ],
   "source": [
    "import os\n",
    "from langchain_community.document_loaders import CSVLoader, PyPDFLoader, UnstructuredWordDocumentLoader\n",
    "from langchain_text_splitters import RecursiveCharacterTextSplitter\n",
    "from datetime import datetime\n",
    "from langchain.schema import Document\n",
    "\n",
    "# ------------------ Loaders with Splitters ------------------\n",
    "\n",
    "def load_csv(file_path):\n",
    "    loader = CSVLoader(file_path)\n",
    "    return loader.load()\n",
    "\n",
    "def load_markdown(file_path):\n",
    "    with open(file_path, \"r\", encoding=\"utf-8\") as f:\n",
    "        text = f.read()\n",
    "    splitter = RecursiveCharacterTextSplitter(\n",
    "        chunk_size=150,\n",
    "        chunk_overlap=15,\n",
    "        separators=[\"\\n\\n\", \"\\n\", \" \"]\n",
    "    )\n",
    "    chunks = splitter.split_text(text)\n",
    "    return [Document(page_content=chunk, metadata={\"source\": file_path}) for chunk in chunks]\n",
    "\n",
    "def load_text(file_path):\n",
    "    with open(file_path, \"r\", encoding=\"utf-8\") as f:\n",
    "        text = f.read()\n",
    "    splitter = RecursiveCharacterTextSplitter(\n",
    "        chunk_size=200,\n",
    "        chunk_overlap=30,\n",
    "        separators=[\"\\n\\n\", \"\\n\", \".\", \" \", \"\"]\n",
    "    )\n",
    "    chunks = splitter.split_text(text)\n",
    "    return [Document(page_content=chunk, metadata={\"source\": file_path}) for chunk in chunks]\n",
    "\n",
    "def load_pdf(file_path):\n",
    "    loader = PyPDFLoader(file_path)\n",
    "    pages = loader.load()\n",
    "    splitter = RecursiveCharacterTextSplitter(\n",
    "        chunk_size=200,\n",
    "        chunk_overlap=30,\n",
    "        separators=[\"\\n\\n\", \"\\n\", \".\", \" \", \"\"]\n",
    "    )\n",
    "    return splitter.split_documents(pages)\n",
    "\n",
    "def load_docx(file_path):\n",
    "    loader = UnstructuredWordDocumentLoader(file_path)\n",
    "    pages = loader.load()\n",
    "    splitter = RecursiveCharacterTextSplitter(\n",
    "        chunk_size=1000,\n",
    "        chunk_overlap=200,\n",
    "        separators=[\"\\n\\n\", \"\\n\", \".\", \" \", \"\"]\n",
    "    )\n",
    "    return splitter.split_documents(pages)\n",
    "\n",
    "# Loading documents by role\n",
    "\n",
    "def load_documents_by_role(role: str):\n",
    "    base_path = \"./resources/data\"\n",
    "    role_paths = {\n",
    "        \"finance\": [\"finance\"],\n",
    "        \"marketing\": [\"marketing\"],\n",
    "        \"engineering\": [\"engineering\"],\n",
    "        \"human_resource\": [\"hr\"],\n",
    "        \"employee\": [\"general\"],\n",
    "    }\n",
    "\n",
    "    folders = role_paths.get(role, [\"general\"])\n",
    "    print(\"folders: \", folders)\n",
    "    docs = []\n",
    "\n",
    "    for folder in folders:\n",
    "        path = os.path.join(base_path, folder)\n",
    "        print(\"path: \", path)\n",
    "        if os.path.exists(path):\n",
    "            for file_name in os.listdir(path):\n",
    "                file_path = os.path.join(path, file_name)\n",
    "                print(\"file_path:\", file_path)\n",
    "\n",
    "                try:\n",
    "                    loaded_docs = []\n",
    "                    if file_name.endswith(\".csv\"):\n",
    "                        loaded_docs = load_csv(file_path)\n",
    "                        print(file_name, \"CSV Documents loaded :\" , file_path)\n",
    "                        print(\"Number of Documents loaded: \",len(loaded_docs))\n",
    "                        print(\"------------------------------------------------------------------------------------------------------------\")\n",
    "\n",
    "                    elif file_name.endswith(\".md\"):\n",
    "                        loaded_docs = load_markdown(file_path)\n",
    "                        print(file_name, \"MD Documents loaded\", file_path)\n",
    "                        print(\"Number of Documents loaded: \",len(loaded_docs))\n",
    "                        print(\"------------------------------------------------------------------------------------------------------------\")\n",
    "\n",
    "                    elif file_name.endswith(\".txt\"):\n",
    "                        loaded_docs = load_text(file_path)\n",
    "                        print(file_name,\"Text Documents loaded\", file_path)\n",
    "\n",
    "                    elif file_name.endswith(\".pdf\"):\n",
    "                        loaded_docs = load_pdf(file_path)\n",
    "                        print(file_name,\"PDF Documents loaded\", file_path)\n",
    "\n",
    "                    elif file_name.endswith(\".docx\"):\n",
    "                        loaded_docs = load_docx(file_path)\n",
    "                        print(file_name,\"Word Documents loaded\", file_path)\n",
    "\n",
    "                    else:\n",
    "                        continue\n",
    "\n",
    "                    # Add metadata\n",
    "                    for doc in loaded_docs:\n",
    "                        doc.metadata[\"source\"] = file_path\n",
    "                        doc.metadata[\"role\"] = folder\n",
    "                        doc.metadata[\"last_modified\"] = datetime.fromtimestamp(os.path.getmtime(file_path)).strftime('%Y-%m-%d %H:%M:%S')\n",
    "\n",
    "                    docs.extend(loaded_docs)\n",
    "\n",
    "                except Exception as e:\n",
    "                    print(f\"Failed to load {file_path}: {e}\")\n",
    "    print(\"Total docs loaded : \",len(docs))\n",
    "    return docs\n",
    "\n",
    "roles = [\"finance\", \"human_resource\", \"marketing\", \"engineering\", \"employee\"]\n",
    "def get_documents_by_role():\n",
    "    documents_by_role = {}\n",
    "    for role in roles:\n",
    "        print(\"===============================================================================================================\")\n",
    "        print(f\"Loading document for {role} ...... \")\n",
    "        documents_by_role[role] = load_documents_by_role(role)\n",
    "        print(f\"Loading document for {role} complete\")\n",
    "    return documents_by_role    \n",
    "    \n",
    "role_documents = get_documents_by_role()\n"
   ]
  },
  {
   "cell_type": "code",
   "execution_count": 3,
   "id": "f89a71b0",
   "metadata": {},
   "outputs": [
    {
     "name": "stdout",
     "output_type": "stream",
     "text": [
      "FINANCE :-\n",
      "Total Documents passed:  189\n",
      "Creating Chroma vectorstore for collection: finance ...... \n",
      "Creating Chroma vectorstore for collection: finance success\n",
      "-----------------------------------------------------------------------------------------------------------------\n",
      "HUMAN_RESOURCE :-\n",
      "Total Documents passed:  100\n",
      "Creating Chroma vectorstore for collection: human_resource ...... \n",
      "Creating Chroma vectorstore for collection: human_resource success\n",
      "-----------------------------------------------------------------------------------------------------------------\n",
      "MARKETING :-\n",
      "Total Documents passed:  330\n",
      "Creating Chroma vectorstore for collection: marketing ...... \n",
      "Creating Chroma vectorstore for collection: marketing success\n",
      "-----------------------------------------------------------------------------------------------------------------\n",
      "ENGINEERING :-\n",
      "Total Documents passed:  283\n",
      "Creating Chroma vectorstore for collection: engineering ...... \n",
      "Creating Chroma vectorstore for collection: engineering success\n",
      "-----------------------------------------------------------------------------------------------------------------\n",
      "EMPLOYEE :-\n",
      "Total Documents passed:  148\n",
      "Creating Chroma vectorstore for collection: employee ...... \n",
      "Creating Chroma vectorstore for collection: employee success\n",
      "-----------------------------------------------------------------------------------------------------------------\n"
     ]
    }
   ],
   "source": [
    "embedding=OpenAIEmbeddings()\n",
    "persist_directory=\"./.chroma\"\n",
    "\n",
    "\n",
    "def create_vector_store(docs, collection_name):\n",
    "    print(f\"Creating Chroma vectorstore for collection: {collection_name} ...... \")\n",
    "\n",
    "    vectorstore = Chroma.from_documents(\n",
    "        documents=docs,\n",
    "        embedding=embedding,\n",
    "        collection_name=collection_name,\n",
    "        persist_directory=persist_directory\n",
    "    )\n",
    "    print(f\"Creating Chroma vectorstore for collection: {collection_name} success\")\n",
    "    print(\"-----------------------------------------------------------------------------------------------------------------\")\n",
    "    # return vectorstore\n",
    "\n",
    "for role , docs in role_documents.items():\n",
    "    print(role.upper(), \":-\")\n",
    "    print(\"Total Documents passed: \",len(docs))\n",
    "    create_vector_store(docs=docs, collection_name=role)"
   ]
  },
  {
   "cell_type": "code",
   "execution_count": 7,
   "id": "0ef60a71",
   "metadata": {},
   "outputs": [],
   "source": [
    "retrievers = {}"
   ]
  },
  {
   "cell_type": "code",
   "execution_count": 16,
   "id": "d545827a",
   "metadata": {},
   "outputs": [],
   "source": [
    "def create_retriever_by_role(role):\n",
    "\n",
    "   return Chroma(persist_directory=persist_directory, \n",
    "                        embedding_function=embedding, \n",
    "                        collection_name = role).as_retriever()"
   ]
  },
  {
   "cell_type": "code",
   "execution_count": 17,
   "id": "4aa8f79a",
   "metadata": {},
   "outputs": [],
   "source": [
    "for role in roles:\n",
    "    retrievers[role] = create_retriever_by_role(role)"
   ]
  },
  {
   "cell_type": "code",
   "execution_count": 18,
   "id": "ecc78503",
   "metadata": {},
   "outputs": [
    {
     "data": {
      "text/plain": [
       "{'finance': VectorStoreRetriever(tags=['Chroma', 'OpenAIEmbeddings'], vectorstore=<langchain_chroma.vectorstores.Chroma object at 0x0000021519ED9FD0>, search_kwargs={}),\n",
       " 'human_resource': VectorStoreRetriever(tags=['Chroma', 'OpenAIEmbeddings'], vectorstore=<langchain_chroma.vectorstores.Chroma object at 0x0000021519ED8590>, search_kwargs={}),\n",
       " 'marketing': VectorStoreRetriever(tags=['Chroma', 'OpenAIEmbeddings'], vectorstore=<langchain_chroma.vectorstores.Chroma object at 0x000002152AD731E0>, search_kwargs={}),\n",
       " 'engineering': VectorStoreRetriever(tags=['Chroma', 'OpenAIEmbeddings'], vectorstore=<langchain_chroma.vectorstores.Chroma object at 0x000002151A2E0950>, search_kwargs={}),\n",
       " 'employee': VectorStoreRetriever(tags=['Chroma', 'OpenAIEmbeddings'], vectorstore=<langchain_chroma.vectorstores.Chroma object at 0x000002151A2E1190>, search_kwargs={})}"
      ]
     },
     "execution_count": 18,
     "metadata": {},
     "output_type": "execute_result"
    }
   ],
   "source": [
    "retrievers"
   ]
  },
  {
   "cell_type": "code",
   "execution_count": 19,
   "id": "db4bbdc9",
   "metadata": {},
   "outputs": [],
   "source": [
    "hr_retriever = retrievers['human_resource']"
   ]
  },
  {
   "cell_type": "code",
   "execution_count": 20,
   "id": "074f656a",
   "metadata": {},
   "outputs": [
    {
     "data": {
      "text/plain": [
       "[Document(id='5e7639e8-1a10-44c2-a371-477e233d0d79', metadata={'last_modified': '2025-06-05 13:54:51', 'row': 0, 'source': './resources/data\\\\hr\\\\hr_data.csv', 'role': 'hr'}, page_content='employee_id: FINEMP1000\\nfull_name: Aadhya Patel\\nrole: Sales Manager\\ndepartment: Sales\\nemail: aadhya.patel@fintechco.com\\nlocation: Ahmedabad\\ndate_of_birth: 1991-04-03\\ndate_of_joining: 2018-11-20\\nmanager_id: FINEMP1006\\nsalary: 1332478.37\\nleave_balance: 22\\nleaves_taken: 11\\nattendance_pct: 99.31\\nperformance_rating: 3\\nlast_review_date: 2024-05-21'),\n",
       " Document(id='6d6356e3-39a2-41bb-b75e-c94cdfed1970', metadata={'role': 'hr', 'last_modified': '2025-06-05 13:54:51', 'row': 0, 'source': './resources/data\\\\hr\\\\hr_data.csv'}, page_content='employee_id: FINEMP1000\\nfull_name: Aadhya Patel\\nrole: Sales Manager\\ndepartment: Sales\\nemail: aadhya.patel@fintechco.com\\nlocation: Ahmedabad\\ndate_of_birth: 1991-04-03\\ndate_of_joining: 2018-11-20\\nmanager_id: FINEMP1006\\nsalary: 1332478.37\\nleave_balance: 22\\nleaves_taken: 11\\nattendance_pct: 99.31\\nperformance_rating: 3\\nlast_review_date: 2024-05-21'),\n",
       " Document(id='d02ba2e6-e4f4-4f45-babf-c604dc7e001d', metadata={'source': './resources/data\\\\hr\\\\hr_data.csv', 'row': 85, 'role': 'hr', 'last_modified': '2025-06-05 13:54:51'}, page_content='employee_id: FINEMP1085\\nfull_name: Aadhya Mehta\\nrole: QA Engineer\\ndepartment: Quality Assurance\\nemail: aadhya.mehta@fintechco.com\\nlocation: Kolkata\\ndate_of_birth: 1983-12-03\\ndate_of_joining: 2021-10-11\\nmanager_id: FINEMP1000\\nsalary: 1026240.03\\nleave_balance: 6\\nleaves_taken: 6\\nattendance_pct: 92.28\\nperformance_rating: 2\\nlast_review_date: 2024-12-19'),\n",
       " Document(id='2ca84d65-601b-4b7c-a433-0ffc3572cbbf', metadata={'role': 'hr', 'row': 29, 'last_modified': '2025-06-05 13:54:51', 'source': './resources/data\\\\hr\\\\hr_data.csv'}, page_content='employee_id: FINEMP1029\\nfull_name: Aditya Patel\\nrole: Data Analyst\\ndepartment: Data\\nemail: aditya.patel@fintechco.com\\nlocation: Pune\\ndate_of_birth: 1997-06-28\\ndate_of_joining: 2020-01-17\\nmanager_id: FINEMP1009\\nsalary: 1128053.06\\nleave_balance: 23\\nleaves_taken: 11\\nattendance_pct: 97.48\\nperformance_rating: 2\\nlast_review_date: 2025-02-21')]"
      ]
     },
     "execution_count": 20,
     "metadata": {},
     "output_type": "execute_result"
    }
   ],
   "source": [
    "hr_retriever.invoke(\"Aadhya Patel\")"
   ]
  },
  {
   "cell_type": "code",
   "execution_count": 24,
   "id": "eee2093f",
   "metadata": {},
   "outputs": [],
   "source": [
    "from langchain_core.prompts import ChatPromptTemplate\n",
    "from langchain.chains import create_retrieval_chain\n",
    "from langchain.chains.combine_documents import create_stuff_documents_chain\n",
    "from langchain_openai import ChatOpenAI"
   ]
  },
  {
   "cell_type": "code",
   "execution_count": 22,
   "id": "8bbdb528",
   "metadata": {},
   "outputs": [],
   "source": [
    "prompt = ChatPromptTemplate.from_template(\n",
    "    \"\"\"\n",
    "    Answer the question based on the given context only.\n",
    "    Do NOT answer anything outside of the context and reply with no results found if it is out of context\n",
    "    provide the most accurate response based on the questions \n",
    "    <context>\n",
    "    {context}\n",
    "    </context>\n",
    "    Question : {input}\n",
    "    \"\"\"\n",
    ")"
   ]
  },
  {
   "cell_type": "code",
   "execution_count": 26,
   "id": "89e59dcb",
   "metadata": {},
   "outputs": [],
   "source": [
    "llm = ChatOpenAI()"
   ]
  },
  {
   "cell_type": "code",
   "execution_count": 27,
   "id": "2aaa6e63",
   "metadata": {},
   "outputs": [],
   "source": [
    "stuff_document_chain=create_stuff_documents_chain(llm,prompt)"
   ]
  },
  {
   "cell_type": "code",
   "execution_count": 28,
   "id": "e4a121ed",
   "metadata": {},
   "outputs": [],
   "source": [
    "retrieval_chain = create_retrieval_chain(hr_retriever,stuff_document_chain)"
   ]
  },
  {
   "cell_type": "code",
   "execution_count": 29,
   "id": "3bbc1426",
   "metadata": {},
   "outputs": [],
   "source": [
    "result=retrieval_chain.invoke({\"input\": \"What is the salary of Aadhya Patel?\"})"
   ]
  },
  {
   "cell_type": "code",
   "execution_count": 30,
   "id": "b644cba2",
   "metadata": {},
   "outputs": [
    {
     "data": {
      "text/plain": [
       "{'input': 'What is the salary of Aadhya Patel?',\n",
       " 'context': [Document(id='5e7639e8-1a10-44c2-a371-477e233d0d79', metadata={'source': './resources/data\\\\hr\\\\hr_data.csv', 'row': 0, 'role': 'hr', 'last_modified': '2025-06-05 13:54:51'}, page_content='employee_id: FINEMP1000\\nfull_name: Aadhya Patel\\nrole: Sales Manager\\ndepartment: Sales\\nemail: aadhya.patel@fintechco.com\\nlocation: Ahmedabad\\ndate_of_birth: 1991-04-03\\ndate_of_joining: 2018-11-20\\nmanager_id: FINEMP1006\\nsalary: 1332478.37\\nleave_balance: 22\\nleaves_taken: 11\\nattendance_pct: 99.31\\nperformance_rating: 3\\nlast_review_date: 2024-05-21'),\n",
       "  Document(id='6d6356e3-39a2-41bb-b75e-c94cdfed1970', metadata={'role': 'hr', 'row': 0, 'last_modified': '2025-06-05 13:54:51', 'source': './resources/data\\\\hr\\\\hr_data.csv'}, page_content='employee_id: FINEMP1000\\nfull_name: Aadhya Patel\\nrole: Sales Manager\\ndepartment: Sales\\nemail: aadhya.patel@fintechco.com\\nlocation: Ahmedabad\\ndate_of_birth: 1991-04-03\\ndate_of_joining: 2018-11-20\\nmanager_id: FINEMP1006\\nsalary: 1332478.37\\nleave_balance: 22\\nleaves_taken: 11\\nattendance_pct: 99.31\\nperformance_rating: 3\\nlast_review_date: 2024-05-21'),\n",
       "  Document(id='d02ba2e6-e4f4-4f45-babf-c604dc7e001d', metadata={'role': 'hr', 'source': './resources/data\\\\hr\\\\hr_data.csv', 'last_modified': '2025-06-05 13:54:51', 'row': 85}, page_content='employee_id: FINEMP1085\\nfull_name: Aadhya Mehta\\nrole: QA Engineer\\ndepartment: Quality Assurance\\nemail: aadhya.mehta@fintechco.com\\nlocation: Kolkata\\ndate_of_birth: 1983-12-03\\ndate_of_joining: 2021-10-11\\nmanager_id: FINEMP1000\\nsalary: 1026240.03\\nleave_balance: 6\\nleaves_taken: 6\\nattendance_pct: 92.28\\nperformance_rating: 2\\nlast_review_date: 2024-12-19'),\n",
       "  Document(id='f4460bde-84ff-4ba4-90a3-5af6b330f002', metadata={'last_modified': '2025-06-05 13:54:51', 'source': './resources/data\\\\hr\\\\hr_data.csv', 'row': 85, 'role': 'hr'}, page_content='employee_id: FINEMP1085\\nfull_name: Aadhya Mehta\\nrole: QA Engineer\\ndepartment: Quality Assurance\\nemail: aadhya.mehta@fintechco.com\\nlocation: Kolkata\\ndate_of_birth: 1983-12-03\\ndate_of_joining: 2021-10-11\\nmanager_id: FINEMP1000\\nsalary: 1026240.03\\nleave_balance: 6\\nleaves_taken: 6\\nattendance_pct: 92.28\\nperformance_rating: 2\\nlast_review_date: 2024-12-19')],\n",
       " 'answer': 'The salary of Aadhya Patel is 1332478.37.'}"
      ]
     },
     "execution_count": 30,
     "metadata": {},
     "output_type": "execute_result"
    }
   ],
   "source": [
    "result"
   ]
  },
  {
   "cell_type": "code",
   "execution_count": 31,
   "id": "5062f4a6",
   "metadata": {},
   "outputs": [],
   "source": [
    "def create_chain_by_role(role):\n",
    "    retriever = retrievers[role]\n",
    "    retrieval_chain = create_retrieval_chain(retriever,stuff_document_chain)\n",
    "    return retrieval_chain"
   ]
  },
  {
   "cell_type": "code",
   "execution_count": 35,
   "id": "77ad33f3",
   "metadata": {},
   "outputs": [],
   "source": [
    "hr_chain = create_chain_by_role(\"employee\")"
   ]
  },
  {
   "cell_type": "code",
   "execution_count": 38,
   "id": "44276eb1",
   "metadata": {},
   "outputs": [],
   "source": [
    "res = hr_chain.invoke({\"input\":\"Salary of Aadhya Patel\"})"
   ]
  },
  {
   "cell_type": "code",
   "execution_count": 39,
   "id": "c7b12efd",
   "metadata": {},
   "outputs": [
    {
     "data": {
      "text/plain": [
       "{'input': 'Salary of Aadhya Patel',\n",
       " 'context': [Document(id='c3e679bc-1a2b-4582-b6a0-9704d83c37d3', metadata={'role': 'general', 'last_modified': '2025-06-05 13:54:51', 'source': './resources/data\\\\general\\\\employee_handbook.md'}, page_content='| **House Rent Allowance (HRA)** | 40-50% of basic salary |\\n| **Special Allowance** | Variable, as per grade |'),\n",
       "  Document(id='84ad3ab0-5da7-4bea-b5fb-4c33700bd041', metadata={'source': './resources/data\\\\general\\\\employee_handbook.md', 'last_modified': '2025-06-05 13:54:51', 'role': 'general'}, page_content='| **House Rent Allowance (HRA)** | 40-50% of basic salary |\\n| **Special Allowance** | Variable, as per grade |'),\n",
       "  Document(id='754c884a-8993-4da7-8087-6528cbdea42e', metadata={'role': 'general', 'source': './resources/data\\\\general\\\\employee_handbook.md', 'last_modified': '2025-06-05 13:54:51'}, page_content='### Tuition & Certification Reimbursement\\n- Up to ₹50,000/year for relevant courses, subject to manager and HR approval.'),\n",
       "  Document(id='66f30f03-56b4-403a-8b4d-516d4035c74e', metadata={'source': './resources/data\\\\general\\\\employee_handbook.md', 'last_modified': '2025-06-05 13:54:51', 'role': 'general'}, page_content='### Tuition & Certification Reimbursement\\n- Up to ₹50,000/year for relevant courses, subject to manager and HR approval.')],\n",
       " 'answer': 'No results found.'}"
      ]
     },
     "execution_count": 39,
     "metadata": {},
     "output_type": "execute_result"
    }
   ],
   "source": [
    "res"
   ]
  },
  {
   "cell_type": "code",
   "execution_count": 52,
   "id": "f5956a61",
   "metadata": {},
   "outputs": [],
   "source": [
    "from langchain_core.output_parsers import StrOutputParser\n",
    "from langchain_core.prompts import ChatPromptTemplate, MessagesPlaceholder\n",
    "from langchain.chains import create_history_aware_retriever, create_retrieval_chain"
   ]
  },
  {
   "cell_type": "code",
   "execution_count": 42,
   "id": "fc9576f4",
   "metadata": {},
   "outputs": [],
   "source": [
    "output_parser=StrOutputParser()"
   ]
  },
  {
   "cell_type": "code",
   "execution_count": 43,
   "id": "d7323114",
   "metadata": {},
   "outputs": [],
   "source": [
    "rewrite_query_system_template = (\n",
    "    \n",
    "    \"Given a chat history and the latest user question \"\n",
    "    \"which might reference context in the chat history, \"\n",
    "    \"formulate a standalone question which can be understood \"\n",
    "    \"without the chat history. Do NOT answer the question, \"\n",
    "    \"just reformulate it if needed and otherwise return it as is.\"\n",
    "\n",
    ")"
   ]
  },
  {
   "cell_type": "code",
   "execution_count": 57,
   "id": "c00d3b9a",
   "metadata": {},
   "outputs": [],
   "source": [
    "rewrite_query_prompt = ChatPromptTemplate.from_messages([\n",
    "    (\"system\", rewrite_query_system_template),\n",
    "    MessagesPlaceholder(\"chat_history\"),\n",
    "    (\"human\", \"{input}\")\n",
    "])"
   ]
  },
  {
   "cell_type": "code",
   "execution_count": 58,
   "id": "d8b1531a",
   "metadata": {},
   "outputs": [],
   "source": [
    "qa_prompt = ChatPromptTemplate.from_messages([\n",
    "    (\"system\", \"You are a helpful AI assistant. Use the following context to answer the user's question.\"),\n",
    "    (\"system\", \"Context: {context}\"),\n",
    "    MessagesPlaceholder(variable_name=\"chat_history\"),\n",
    "    (\"human\", \"{input}\")])"
   ]
  },
  {
   "cell_type": "code",
   "execution_count": 59,
   "id": "39fa0b09",
   "metadata": {},
   "outputs": [
    {
     "data": {
      "text/plain": [
       "{'finance': VectorStoreRetriever(tags=['Chroma', 'OpenAIEmbeddings'], vectorstore=<langchain_chroma.vectorstores.Chroma object at 0x0000021519ED9FD0>, search_kwargs={}),\n",
       " 'human_resource': VectorStoreRetriever(tags=['Chroma', 'OpenAIEmbeddings'], vectorstore=<langchain_chroma.vectorstores.Chroma object at 0x0000021519ED8590>, search_kwargs={}),\n",
       " 'marketing': VectorStoreRetriever(tags=['Chroma', 'OpenAIEmbeddings'], vectorstore=<langchain_chroma.vectorstores.Chroma object at 0x000002152AD731E0>, search_kwargs={}),\n",
       " 'engineering': VectorStoreRetriever(tags=['Chroma', 'OpenAIEmbeddings'], vectorstore=<langchain_chroma.vectorstores.Chroma object at 0x000002151A2E0950>, search_kwargs={}),\n",
       " 'employee': VectorStoreRetriever(tags=['Chroma', 'OpenAIEmbeddings'], vectorstore=<langchain_chroma.vectorstores.Chroma object at 0x000002151A2E1190>, search_kwargs={})}"
      ]
     },
     "execution_count": 59,
     "metadata": {},
     "output_type": "execute_result"
    }
   ],
   "source": [
    "retrievers"
   ]
  },
  {
   "cell_type": "code",
   "execution_count": 66,
   "id": "e104bf55",
   "metadata": {},
   "outputs": [],
   "source": [
    "def rag_chain_by_role(model=\"gpt-4o-mini\",role=\"employee\"):\n",
    "    llm = ChatOpenAI(model=model)\n",
    "    history_aware_retriever = create_history_aware_retriever(llm=llm,prompt=rewrite_query_prompt,retriever=retrievers[role])\n",
    "    qa_chain = create_stuff_documents_chain(llm,qa_prompt)\n",
    "    rag_chain = create_retrieval_chain(history_aware_retriever,qa_chain)\n",
    "    return rag_chain"
   ]
  },
  {
   "cell_type": "code",
   "execution_count": 76,
   "id": "a4d476c3",
   "metadata": {},
   "outputs": [],
   "source": [
    "emp_chain = rag_chain_by_role(role=\"employee\")"
   ]
  },
  {
   "cell_type": "code",
   "execution_count": 77,
   "id": "63b32595",
   "metadata": {},
   "outputs": [],
   "source": [
    "chat_history = []"
   ]
  },
  {
   "cell_type": "code",
   "execution_count": 80,
   "id": "320e4738",
   "metadata": {},
   "outputs": [
    {
     "data": {
      "text/plain": [
       "{'input': 'Yearly sick leaves',\n",
       " 'chat_history': [],\n",
       " 'context': [Document(id='4f4029f4-8d83-41dc-911d-f3cde2291efa', metadata={'role': 'general', 'last_modified': '2025-06-05 13:54:51', 'source': './resources/data\\\\general\\\\employee_handbook.md'}, page_content='| **Sick Leave** | 12 days/year (non-cumulative; medical certificate for >2 days) |\\n| **Casual Leave** | 7 days/year (state-specific) |'),\n",
       "  Document(id='a3fec24b-d9c6-457f-b1d2-c9d6b90f62f4', metadata={'source': './resources/data\\\\general\\\\employee_handbook.md', 'last_modified': '2025-06-05 13:54:51', 'role': 'general'}, page_content='| **Sick Leave** | 12 days/year (non-cumulative; medical certificate for >2 days) |\\n| **Casual Leave** | 7 days/year (state-specific) |'),\n",
       "  Document(id='31367e40-578e-4681-91a7-08234446c834', metadata={'source': './resources/data\\\\general\\\\employee_handbook.md', 'last_modified': '2025-06-05 13:54:51', 'role': 'general'}, page_content='- Sick leave for more than 2 days requires a medical certificate.\\n- Emergency leave to be communicated to manager/HR as soon as possible.'),\n",
       "  Document(id='48fa4502-4c2a-4148-bc45-dd7b13f08d03', metadata={'role': 'general', 'source': './resources/data\\\\general\\\\employee_handbook.md', 'last_modified': '2025-06-05 13:54:51'}, page_content='- Sick leave for more than 2 days requires a medical certificate.\\n- Emergency leave to be communicated to manager/HR as soon as possible.')],\n",
       " 'answer': \"You are entitled to 12 sick leave days per year. Please note that these days are non-cumulative, meaning any unused sick leave will not carry over to the next year. Additionally, if you need to take more than 2 consecutive days of sick leave, you'll need to provide a medical certificate.\"}"
      ]
     },
     "execution_count": 80,
     "metadata": {},
     "output_type": "execute_result"
    }
   ],
   "source": [
    "answer = emp_chain.invoke({\n",
    "        \"input\": \"Yearly sick leaves\",\n",
    "        \"chat_history\": chat_history\n",
    "    })\n",
    "answer"
   ]
  },
  {
   "cell_type": "code",
   "execution_count": 85,
   "id": "4c5b17c3",
   "metadata": {},
   "outputs": [
    {
     "data": {
      "text/plain": [
       "Document(id='4f4029f4-8d83-41dc-911d-f3cde2291efa', metadata={'role': 'general', 'last_modified': '2025-06-05 13:54:51', 'source': './resources/data\\\\general\\\\employee_handbook.md'}, page_content='| **Sick Leave** | 12 days/year (non-cumulative; medical certificate for >2 days) |\\n| **Casual Leave** | 7 days/year (state-specific) |')"
      ]
     },
     "execution_count": 85,
     "metadata": {},
     "output_type": "execute_result"
    }
   ],
   "source": [
    "answer['context'][0]"
   ]
  },
  {
   "cell_type": "code",
   "execution_count": 88,
   "id": "8e38fd9e",
   "metadata": {},
   "outputs": [
    {
     "data": {
      "text/plain": [
       "'employee_handbook.md'"
      ]
     },
     "execution_count": 88,
     "metadata": {},
     "output_type": "execute_result"
    }
   ],
   "source": [
    "answer['context'][0].metadata['source'].split(\"\\\\\")[-1]"
   ]
  },
  {
   "cell_type": "code",
   "execution_count": 92,
   "id": "98666c10",
   "metadata": {},
   "outputs": [],
   "source": [
    "source_docs = []\n",
    "doc_len  = len(answer['context'])\n",
    "for i in range(0,doc_len):\n",
    "    source_docs.append(answer['context'][i].metadata['source'].split(\"\\\\\")[-1])\n"
   ]
  },
  {
   "cell_type": "code",
   "execution_count": 93,
   "id": "35df18b9",
   "metadata": {},
   "outputs": [
    {
     "data": {
      "text/plain": [
       "['employee_handbook.md',\n",
       " 'employee_handbook.md',\n",
       " 'employee_handbook.md',\n",
       " 'employee_handbook.md']"
      ]
     },
     "execution_count": 93,
     "metadata": {},
     "output_type": "execute_result"
    }
   ],
   "source": [
    "source_docs"
   ]
  },
  {
   "cell_type": "code",
   "execution_count": 94,
   "id": "457f01c1",
   "metadata": {},
   "outputs": [],
   "source": [
    "import sys\n",
    "\n",
    "def get_dict_size_mb(dictionary):\n",
    "    size_bytes = sys.getsizeof(dictionary)\n",
    "    size_mb = size_bytes / (1024 * 1024)\n",
    "    return size_mb"
   ]
  },
  {
   "cell_type": "code",
   "execution_count": 95,
   "id": "408fed01",
   "metadata": {},
   "outputs": [
    {
     "name": "stdout",
     "output_type": "stream",
     "text": [
      "Size of the dictionary: 0.0002 MB\n"
     ]
    }
   ],
   "source": [
    "size_in_mb = get_dict_size_mb(retrievers)\n",
    "print(f\"Size of the dictionary: {size_in_mb:.4f} MB\")\n"
   ]
  },
  {
   "cell_type": "code",
   "execution_count": null,
   "id": "1b3aaa48",
   "metadata": {},
   "outputs": [],
   "source": []
  },
  {
   "cell_type": "code",
   "execution_count": null,
   "id": "a07b524a",
   "metadata": {},
   "outputs": [],
   "source": []
  },
  {
   "cell_type": "code",
   "execution_count": null,
   "id": "d737904a",
   "metadata": {},
   "outputs": [],
   "source": []
  },
  {
   "cell_type": "markdown",
   "id": "bcf7f0ca",
   "metadata": {},
   "source": [
    "Retrieval Chain Time analysis"
   ]
  },
  {
   "cell_type": "code",
   "execution_count": 1,
   "id": "3122f333",
   "metadata": {},
   "outputs": [],
   "source": [
    "from app.utils.database import init_db, get_chat_history, insert_application_logs"
   ]
  },
  {
   "cell_type": "code",
   "execution_count": 6,
   "id": "2bd91095",
   "metadata": {},
   "outputs": [],
   "source": [
    "init_db()"
   ]
  },
  {
   "cell_type": "code",
   "execution_count": 8,
   "id": "0fc73387",
   "metadata": {},
   "outputs": [],
   "source": [
    "import time"
   ]
  },
  {
   "cell_type": "code",
   "execution_count": 9,
   "id": "e8d20bcf",
   "metadata": {},
   "outputs": [
    {
     "name": "stdout",
     "output_type": "stream",
     "text": [
      "0.0009703636169433594\n"
     ]
    }
   ],
   "source": [
    "start = time.time()\n",
    "chat_history = get_chat_history(session_id=\"721802cd-ea1e-43d3-b56d-da15d5e74dd3\")\n",
    "end = time.time()\n",
    "print(end-start)"
   ]
  },
  {
   "cell_type": "code",
   "execution_count": 3,
   "id": "36070dd7",
   "metadata": {},
   "outputs": [],
   "source": [
    "from langchain_chroma import Chroma\n",
    "from langchain_openai import OpenAIEmbeddings\n",
    "\n",
    "\n",
    "def get_retriever_by_role(role):\n",
    "\n",
    "    vectordb = Chroma(\n",
    "        persist_directory=\"chroma_db\",\n",
    "        embedding_function=OpenAIEmbeddings(),\n",
    "        collection_name=role\n",
    "    )\n",
    "\n",
    "    retriever = vectordb.as_retriever(\n",
    "        search_type=\"similarity\",\n",
    "        search_kwargs={\"k\": 3}\n",
    "    )\n",
    "    return retriever\n"
   ]
  },
  {
   "cell_type": "code",
   "execution_count": 61,
   "id": "eb4ffa60",
   "metadata": {},
   "outputs": [],
   "source": [
    "from langchain.chains.combine_documents import create_stuff_documents_chain\n",
    "from langchain_openai import ChatOpenAI\n",
    "from langchain_core.prompts import ChatPromptTemplate, MessagesPlaceholder\n",
    "from langchain.chains import create_history_aware_retriever, create_retrieval_chain\n",
    "from functools import cache\n",
    "from dotenv import load_dotenv\n",
    "load_dotenv()\n",
    "\n",
    "rewrite_query_system_template = (\n",
    "    \n",
    "    \"Given a chat history and the latest user question \"\n",
    "    \"which might reference context in the chat history, \"\n",
    "    \"formulate a standalone question which can be understood \"\n",
    "    \"without the chat history. Do NOT answer the question, \"\n",
    "    \"just reformulate it if needed and otherwise return it as is.\"\n",
    "\n",
    ")\n",
    "\n",
    "rewrite_query_prompt = ChatPromptTemplate.from_messages([\n",
    "    (\"system\", rewrite_query_system_template),\n",
    "    MessagesPlaceholder(\"chat_history\"),\n",
    "    (\"human\", \"{input}\")\n",
    "])\n",
    "\n",
    "qa_prompt = ChatPromptTemplate.from_messages([\n",
    "    (\"system\", \"You are a helpful assistant. The user may ask vague questions. Use the available documents and conversation history to answer precisely. If the question is too vague, politely ask for clarification.\"),\n",
    "    (\"system\", \"Context: {context}\"),\n",
    "    MessagesPlaceholder(variable_name=\"chat_history\"),\n",
    "    (\"human\", \"{input}\")])\n",
    "\n",
    "@cache\n",
    "def rag_chain_by_role(model=\"gpt-4o-mini\",role=\"employee\"):\n",
    "    llm = ChatOpenAI(model=model)\n",
    "    history_aware_retriever = create_history_aware_retriever(llm=llm,prompt=rewrite_query_prompt,retriever=get_retriever_by_role(role))\n",
    "    qa_chain = create_stuff_documents_chain(llm,qa_prompt)\n",
    "    rag_chain = create_retrieval_chain(history_aware_retriever,qa_chain)\n",
    "    return rag_chain"
   ]
  },
  {
   "cell_type": "code",
   "execution_count": 26,
   "id": "19623d2b",
   "metadata": {},
   "outputs": [
    {
     "name": "stdout",
     "output_type": "stream",
     "text": [
      "0.00010967254638671875\n"
     ]
    }
   ],
   "source": [
    "start = time.time()\n",
    "rag = rag_chain_by_role(role=\"executive\")\n",
    "end = time.time()\n",
    "print(end-start)"
   ]
  },
  {
   "cell_type": "code",
   "execution_count": 63,
   "id": "af957a0a",
   "metadata": {},
   "outputs": [
    {
     "name": "stdout",
     "output_type": "stream",
     "text": [
      "{'input': 'Total Sick leaves in a year', 'chat_history': ['msg1', 'msg2', 'msg3', 'msg4', 'msg5', 'msg6', 'msg7', 'msg8', 'msg9', 'msg10'], 'context': [], 'answer': 'The total number of sick leaves in a year can vary significantly depending on company policy, local labor laws, and individual employment contracts. Typically, employers might offer anywhere from 5 to 15 sick days per year, with some providing additional leave for long-term illnesses or special circumstances. It’s best to check with the specific company’s HR policy for the exact number of sick leave days allowed.'}\n",
      "4.402341604232788\n"
     ]
    }
   ],
   "source": [
    "start = time.time()\n",
    "answer = rag.invoke({\n",
    "        \"input\": \"Total Sick leaves in a year\",\n",
    "        \"chat_history\": chat_history\n",
    "    })\n",
    "end = time.time()\n",
    "print(answer)\n",
    "print(end-start)"
   ]
  },
  {
   "cell_type": "code",
   "execution_count": 50,
   "id": "31fddc67",
   "metadata": {},
   "outputs": [],
   "source": [
    "messages = []\n",
    "messages.extend([\n",
    "    {\"role\":\"human\"},\n",
    "    {\"role\": \"ai\"}\n",
    "])"
   ]
  },
  {
   "cell_type": "code",
   "execution_count": 51,
   "id": "5aa017d1",
   "metadata": {},
   "outputs": [
    {
     "data": {
      "text/plain": [
       "[{'role': 'human'}, {'role': 'ai'}]"
      ]
     },
     "execution_count": 51,
     "metadata": {},
     "output_type": "execute_result"
    }
   ],
   "source": [
    "messages"
   ]
  },
  {
   "cell_type": "code",
   "execution_count": 56,
   "id": "7e8611e4",
   "metadata": {},
   "outputs": [],
   "source": [
    "messages.extend([\n",
    "    {\"role\":\"human6\"},\n",
    "    {\"role\": \"ai6\"}\n",
    "])"
   ]
  },
  {
   "cell_type": "code",
   "execution_count": 57,
   "id": "71db0217",
   "metadata": {},
   "outputs": [
    {
     "data": {
      "text/plain": [
       "12"
      ]
     },
     "execution_count": 57,
     "metadata": {},
     "output_type": "execute_result"
    }
   ],
   "source": [
    "len(messages)"
   ]
  },
  {
   "cell_type": "code",
   "execution_count": 39,
   "id": "08bc83fc",
   "metadata": {},
   "outputs": [],
   "source": [
    "from math import floor\n",
    "\n",
    "def trim_chat_history(chat_history):\n",
    "    n = len(chat_history)\n",
    "    if n == 0:\n",
    "        return []\n",
    "\n",
    "    # Calculate sizes\n",
    "    k = max(1, floor(n * 0.2))  # At least 1 item per section\n",
    "\n",
    "    # Indices for start, middle, and end\n",
    "    first_k = chat_history[:k]\n",
    "    \n",
    "    # Middle 20% from the middle 60% section\n",
    "    mid_start = n // 3\n",
    "    mid_end = 2 * n // 3\n",
    "    middle_section = chat_history[mid_start:mid_end]\n",
    "    middle_k = middle_section[:k]\n",
    "\n",
    "    # Last 20% of the whole list\n",
    "    last_k = chat_history[-k:]\n",
    "\n",
    "    # Combine results\n",
    "    trimmed = first_k + middle_k + last_k\n",
    "    return trimmed"
   ]
  },
  {
   "cell_type": "code",
   "execution_count": 59,
   "id": "d6a270e7",
   "metadata": {},
   "outputs": [
    {
     "data": {
      "text/plain": [
       "[{'role': 'human'},\n",
       " {'role': 'ai'},\n",
       " {'role': 'human2'},\n",
       " {'role': 'ai2'},\n",
       " {'role': 'human3'},\n",
       " {'role': 'ai3'},\n",
       " {'role': 'human4'},\n",
       " {'role': 'ai4'},\n",
       " {'role': 'human5'},\n",
       " {'role': 'ai5'},\n",
       " {'role': 'human6'},\n",
       " {'role': 'ai6'}]"
      ]
     },
     "execution_count": 59,
     "metadata": {},
     "output_type": "execute_result"
    }
   ],
   "source": [
    "messages"
   ]
  },
  {
   "cell_type": "code",
   "execution_count": 60,
   "id": "4d20e07e",
   "metadata": {},
   "outputs": [
    {
     "name": "stdout",
     "output_type": "stream",
     "text": [
      "[{'role': 'human'}, {'role': 'ai'}, {'role': 'human3'}, {'role': 'ai3'}, {'role': 'human6'}, {'role': 'ai6'}]\n"
     ]
    }
   ],
   "source": [
    "\n",
    "trimmed = trim_chat_history(messages)\n",
    "print(trimmed)"
   ]
  },
  {
   "cell_type": "code",
   "execution_count": null,
   "id": "2b21890b",
   "metadata": {},
   "outputs": [],
   "source": [
    "# Step 1 - load doc by role\n",
    "\n",
    "\n",
    "print(\"===============================================================================================================\")\n",
    "print(f\"Loading document for {role} ............................. \")\n",
    "docs = load_documents_by_role(role)\n",
    "print(f\"Loading document for {role} complete\")\n",
    "print(\"===============================================================================================================\")\n",
    "\n",
    "# Step 2 - create vector store \n",
    "embedding=OpenAIEmbeddings()\n",
    "persist_directory=\"chroma_db\"\n",
    "\n",
    "\n",
    "print(f\"Creating Chroma vectorstore for collection: {role} ...... \")\n",
    "\n",
    "vectorstore = Chroma.from_documents(\n",
    "    documents=docs,\n",
    "    embedding=embedding,\n",
    "    persist_directory=persist_directory,\n",
    "    collection_name=role\n",
    ")\n",
    "\n",
    "# vectorstore.persist()\n",
    "print(f\"Creating Chroma vectorstore for collection: {role} success\")\n",
    "print(\"-----------------------------------------------------------------------------------------------------------------\")\n",
    "# return vectorstore\n",
    "\n",
    "exe_vectorstore = Chroma(\n",
    "    collection_name=\"executive\",\n",
    "    embedding=embedding,\n",
    "    persist_directory=persist_directory\n",
    ")\n",
    "\n",
    "exe_vectorstore.add_documents(docs)\n",
    "vectorstore.persist()"
   ]
  },
  {
   "cell_type": "code",
   "execution_count": 1,
   "id": "9a3eb1f6",
   "metadata": {},
   "outputs": [
    {
     "data": {
      "text/plain": [
       "1620"
      ]
     },
     "execution_count": 1,
     "metadata": {},
     "output_type": "execute_result"
    }
   ],
   "source": [
    "len(\"\"\"Campaign Analysis:\n",
    "-------------------------------------------\n",
    "1. **Digital Campaigns**: FinSolve Technologies launched a series of digital campaigns, focusing on performance marketing, content marketing, and social media engagement. The **\"InstantWire Global Expansion\"** campaign, which highlighted FinSolve Technologies’s expansion into new markets, was the most successful in terms of conversions and brand awareness, leading to a 25% increase in traffic to the website and a 12% increase in sign-ups.\n",
    "   - **Costs**: $5M spent on digital ads, influencer partnerships, and sponsored content.\n",
    "   - **ROI**: 3.5x return on investment, with $17.5M in generated revenue directly attributed to these efforts.\n",
    "\n",
    "2. **Event Marketing**: Several high-profile industry events and partnerships, including fintech expos and trade shows, helped solidify FinSolve Technologies’s presence in Europe and Asia. The **\"FinSolve Technologies Fintech Innovation\"** event in Berlin was the highlight, leading to over 300 new enterprise leads and strengthening vendor relationships.\n",
    "   - **Costs**: $2M for event organization and travel.\n",
    "   - **ROI**: Estimated 5x ROI from new partnerships and contracts.\n",
    "\n",
    "3. **Email Marketing**: Email campaigns focused on retention and nurturing existing customers resulted in a 10% increase in customer retention. FinSolve Technologies sent over 2 million emails to existing customers, with a 25% open rate and a 15% click-through rate.\n",
    "   - **Costs**: $200K for email design, segmentation, and automation tools.\n",
    "   - **ROI**: 2x return on investment, with substantial increases in customer retention.\"\"\")"
   ]
  }
 ],
 "metadata": {
  "kernelspec": {
   "display_name": "venv",
   "language": "python",
   "name": "python3"
  },
  "language_info": {
   "codemirror_mode": {
    "name": "ipython",
    "version": 3
   },
   "file_extension": ".py",
   "mimetype": "text/x-python",
   "name": "python",
   "nbconvert_exporter": "python",
   "pygments_lexer": "ipython3",
   "version": "3.13.2"
  }
 },
 "nbformat": 4,
 "nbformat_minor": 5
}
